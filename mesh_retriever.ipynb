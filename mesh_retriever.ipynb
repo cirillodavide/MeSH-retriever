{
 "cells": [
  {
   "cell_type": "code",
   "execution_count": 1,
   "metadata": {},
   "outputs": [],
   "source": [
    "from Bio import Entrez\n",
    "import pandas as pd\n",
    "import xml.etree.ElementTree as ET\n",
    "Entrez.email = 'davide.cirillo@bsc.es'"
   ]
  },
  {
   "cell_type": "code",
   "execution_count": 28,
   "metadata": {},
   "outputs": [],
   "source": [
    "def meshheadings(PMID):\n",
    "    descriptors = []\n",
    "    qualifiers = []\n",
    "    handle = Entrez.efetch(db=\"pubmed\", id=PMID, rettype=\"xml\")\n",
    "    tree = ET.parse(handle)\n",
    "    root = tree.getroot()\n",
    "    \n",
    "    tags = {elem.tag for elem in root.iter()}\n",
    "    for pubmed_article in root.findall('PubmedArticle'):\n",
    "        try:\n",
    "            for mesh_heading in pubmed_article.find('MedlineCitation').find('MeshHeadingList').findall('MeshHeading'):\n",
    "                try :\n",
    "                    d = mesh_heading.find('DescriptorName').text\n",
    "                    q = mesh_heading.find('QualifierName').text\n",
    "                    descriptors.append(d)\n",
    "                    qualifiers.append(q)\n",
    "                except:\n",
    "                    pass\n",
    "        except:\n",
    "            pass\n",
    "    return pd.DataFrame({'PMCID':PMCID,'descriptors':descriptors, 'qualifiers':qualifiers})"
   ]
  },
  {
   "cell_type": "code",
   "execution_count": 29,
   "metadata": {},
   "outputs": [
    {
     "data": {
      "text/html": [
       "<div>\n",
       "<style scoped>\n",
       "    .dataframe tbody tr th:only-of-type {\n",
       "        vertical-align: middle;\n",
       "    }\n",
       "\n",
       "    .dataframe tbody tr th {\n",
       "        vertical-align: top;\n",
       "    }\n",
       "\n",
       "    .dataframe thead th {\n",
       "        text-align: right;\n",
       "    }\n",
       "</style>\n",
       "<table border=\"1\" class=\"dataframe\">\n",
       "  <thead>\n",
       "    <tr style=\"text-align: right;\">\n",
       "      <th></th>\n",
       "      <th>PMCID</th>\n",
       "      <th>descriptors</th>\n",
       "      <th>qualifiers</th>\n",
       "    </tr>\n",
       "  </thead>\n",
       "  <tbody>\n",
       "    <tr>\n",
       "      <th>0</th>\n",
       "      <td>33533192</td>\n",
       "      <td>Artificial Intelligence</td>\n",
       "      <td>trends</td>\n",
       "    </tr>\n",
       "    <tr>\n",
       "      <th>1</th>\n",
       "      <td>33533192</td>\n",
       "      <td>Biomedical Research</td>\n",
       "      <td>trends</td>\n",
       "    </tr>\n",
       "  </tbody>\n",
       "</table>\n",
       "</div>"
      ],
      "text/plain": [
       "      PMCID              descriptors qualifiers\n",
       "0  33533192  Artificial Intelligence     trends\n",
       "1  33533192      Biomedical Research     trends"
      ]
     },
     "execution_count": 29,
     "metadata": {},
     "output_type": "execute_result"
    }
   ],
   "source": [
    "PMID = \"33533192\"\n",
    "meshheadings(PMID)"
   ]
  }
 ],
 "metadata": {
  "kernelspec": {
   "display_name": "Python 3",
   "language": "python",
   "name": "python3"
  },
  "language_info": {
   "codemirror_mode": {
    "name": "ipython",
    "version": 3
   },
   "file_extension": ".py",
   "mimetype": "text/x-python",
   "name": "python",
   "nbconvert_exporter": "python",
   "pygments_lexer": "ipython3",
   "version": "3.6.9"
  }
 },
 "nbformat": 4,
 "nbformat_minor": 4
}
